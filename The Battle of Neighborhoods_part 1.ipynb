{
 "cells": [
  {
   "cell_type": "markdown",
   "metadata": {},
   "source": [
    "# Capstone Project - The Battle of Neighborhoods\n",
    "\n",
    "\n"
   ]
  },
  {
   "cell_type": "markdown",
   "metadata": {},
   "source": [
    "## Introduction\n",
    "Below is the brief discussion of the project that I want to conduct"
   ]
  },
  {
   "cell_type": "markdown",
   "metadata": {},
   "source": [
    "The cinema company wants to expand their business and open more movie theater in Ho Chi Minh city. The business stakeholder wants know Which location you will recommend in Ho Chi Minh city to open a movie theater in order to attract as many customers as possible.\n"
   ]
  },
  {
   "cell_type": "markdown",
   "metadata": {},
   "source": [
    "An understanding of existing location will help making the decision and after discussion with the management team, strategic planning, data scientist teams came out with the following hypothesis of the popular movie theater location.\n",
    "\n",
    "* Places surrounded by shopping street, hotel, entertainment spots.\n",
    "* Near big road, does not locate in small roads.\n",
    "\n",
    "Then, after analyzing the current cinema location data, I will maek recommendation on the next potential location for a new movie theater.\n",
    "\n",
    "**Data**\n",
    "   *  Use the list of movie theater taken from the website\n",
    "   *  Use Foursquare data to explore the surrounding area characteristics"
   ]
  }
 ],
 "metadata": {
  "kernelspec": {
   "display_name": "Python 3",
   "language": "python",
   "name": "python3"
  },
  "language_info": {
   "codemirror_mode": {
    "name": "ipython",
    "version": 3
   },
   "file_extension": ".py",
   "mimetype": "text/x-python",
   "name": "python",
   "nbconvert_exporter": "python",
   "pygments_lexer": "ipython3",
   "version": "3.7.4"
  }
 },
 "nbformat": 4,
 "nbformat_minor": 2
}
